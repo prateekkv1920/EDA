{
 "cells": [
  {
   "cell_type": "code",
   "execution_count": 35,
   "id": "2b4795bd",
   "metadata": {},
   "outputs": [
    {
     "name": "stdout",
     "output_type": "stream",
     "text": [
      "Defaulting to user installation because normal site-packages is not writeable\n",
      "Requirement already satisfied: datahorse in c:\\users\\prate\\appdata\\roaming\\python\\python311\\site-packages (0.1.4)\n",
      "Requirement already satisfied: pandas in c:\\programdata\\anaconda3\\lib\\site-packages (from datahorse) (2.0.3)\n",
      "Requirement already satisfied: groq in c:\\users\\prate\\appdata\\roaming\\python\\python311\\site-packages (from datahorse) (0.11.0)\n",
      "Requirement already satisfied: matplotlib in c:\\programdata\\anaconda3\\lib\\site-packages (from datahorse) (3.7.2)\n",
      "Requirement already satisfied: seaborn in c:\\programdata\\anaconda3\\lib\\site-packages (from datahorse) (0.12.2)\n",
      "Requirement already satisfied: scikit-learn in c:\\programdata\\anaconda3\\lib\\site-packages (from datahorse) (1.3.0)\n",
      "Requirement already satisfied: anyio<5,>=3.5.0 in c:\\programdata\\anaconda3\\lib\\site-packages (from groq->datahorse) (3.5.0)\n",
      "Requirement already satisfied: distro<2,>=1.7.0 in c:\\users\\prate\\appdata\\roaming\\python\\python311\\site-packages (from groq->datahorse) (1.9.0)\n",
      "Requirement already satisfied: httpx<1,>=0.23.0 in c:\\users\\prate\\appdata\\roaming\\python\\python311\\site-packages (from groq->datahorse) (0.27.2)\n",
      "Requirement already satisfied: pydantic<3,>=1.9.0 in c:\\programdata\\anaconda3\\lib\\site-packages (from groq->datahorse) (1.10.8)\n",
      "Requirement already satisfied: sniffio in c:\\programdata\\anaconda3\\lib\\site-packages (from groq->datahorse) (1.2.0)\n",
      "Requirement already satisfied: typing-extensions<5,>=4.7 in c:\\programdata\\anaconda3\\lib\\site-packages (from groq->datahorse) (4.7.1)\n",
      "Requirement already satisfied: contourpy>=1.0.1 in c:\\programdata\\anaconda3\\lib\\site-packages (from matplotlib->datahorse) (1.0.5)\n",
      "Requirement already satisfied: cycler>=0.10 in c:\\programdata\\anaconda3\\lib\\site-packages (from matplotlib->datahorse) (0.11.0)\n",
      "Requirement already satisfied: fonttools>=4.22.0 in c:\\programdata\\anaconda3\\lib\\site-packages (from matplotlib->datahorse) (4.25.0)\n",
      "Requirement already satisfied: kiwisolver>=1.0.1 in c:\\programdata\\anaconda3\\lib\\site-packages (from matplotlib->datahorse) (1.4.4)\n",
      "Requirement already satisfied: numpy>=1.20 in c:\\programdata\\anaconda3\\lib\\site-packages (from matplotlib->datahorse) (1.24.3)\n",
      "Requirement already satisfied: packaging>=20.0 in c:\\programdata\\anaconda3\\lib\\site-packages (from matplotlib->datahorse) (23.1)\n",
      "Requirement already satisfied: pillow>=6.2.0 in c:\\programdata\\anaconda3\\lib\\site-packages (from matplotlib->datahorse) (9.4.0)\n",
      "Requirement already satisfied: pyparsing<3.1,>=2.3.1 in c:\\programdata\\anaconda3\\lib\\site-packages (from matplotlib->datahorse) (3.0.9)\n",
      "Requirement already satisfied: python-dateutil>=2.7 in c:\\programdata\\anaconda3\\lib\\site-packages (from matplotlib->datahorse) (2.8.2)\n",
      "Requirement already satisfied: pytz>=2020.1 in c:\\programdata\\anaconda3\\lib\\site-packages (from pandas->datahorse) (2023.3.post1)\n",
      "Requirement already satisfied: tzdata>=2022.1 in c:\\programdata\\anaconda3\\lib\\site-packages (from pandas->datahorse) (2023.3)\n",
      "Requirement already satisfied: scipy>=1.5.0 in c:\\programdata\\anaconda3\\lib\\site-packages (from scikit-learn->datahorse) (1.11.1)\n",
      "Requirement already satisfied: joblib>=1.1.1 in c:\\programdata\\anaconda3\\lib\\site-packages (from scikit-learn->datahorse) (1.2.0)\n",
      "Requirement already satisfied: threadpoolctl>=2.0.0 in c:\\programdata\\anaconda3\\lib\\site-packages (from scikit-learn->datahorse) (2.2.0)\n",
      "Requirement already satisfied: idna>=2.8 in c:\\programdata\\anaconda3\\lib\\site-packages (from anyio<5,>=3.5.0->groq->datahorse) (3.4)\n",
      "Requirement already satisfied: certifi in c:\\programdata\\anaconda3\\lib\\site-packages (from httpx<1,>=0.23.0->groq->datahorse) (2023.7.22)\n",
      "Requirement already satisfied: httpcore==1.* in c:\\users\\prate\\appdata\\roaming\\python\\python311\\site-packages (from httpx<1,>=0.23.0->groq->datahorse) (1.0.6)\n",
      "Requirement already satisfied: h11<0.15,>=0.13 in c:\\users\\prate\\appdata\\roaming\\python\\python311\\site-packages (from httpcore==1.*->httpx<1,>=0.23.0->groq->datahorse) (0.14.0)\n",
      "Requirement already satisfied: six>=1.5 in c:\\programdata\\anaconda3\\lib\\site-packages (from python-dateutil>=2.7->matplotlib->datahorse) (1.16.0)\n"
     ]
    }
   ],
   "source": [
    "!pip install datahorse"
   ]
  },
  {
   "cell_type": "code",
   "execution_count": 1,
   "id": "4b466d61",
   "metadata": {},
   "outputs": [],
   "source": [
    "import datahorse"
   ]
  },
  {
   "cell_type": "code",
   "execution_count": 2,
   "id": "32c3f50c",
   "metadata": {},
   "outputs": [],
   "source": [
    "df=datahorse.read('C://Users//prate//Downloads//tips.csv')"
   ]
  },
  {
   "cell_type": "code",
   "execution_count": 7,
   "id": "15bffc7a",
   "metadata": {},
   "outputs": [
    {
     "data": {
      "text/html": [
       "\n",
       "<details>\n",
       "  <summary>Run Prompt Failed</summary>\n",
       "  <pre>\n",
       "  Connection error.\n",
       "  </pre>\n",
       "</details>\n",
       "\n",
       "\n",
       "<style>\n",
       "details {\n",
       "  border: 1px solid #aaa;\n",
       "  border-radius: 4px;\n",
       "  padding: 0.5em 0.5em 0;\n",
       "  margin-top: 3px;\n",
       "}\n",
       "\n",
       "summary {\n",
       "  font-weight: bold;\n",
       "  margin: -0.5em -0.5em 0;\n",
       "  padding: 0.5em;\n",
       "}\n",
       "\n",
       "details[open] {\n",
       "  padding: 0.5em;\n",
       "}\n",
       "\n",
       "details[open] summary {\n",
       "  border-bottom: 1px solid #aaa;\n",
       "  margin-bottom: 0.5em;\n",
       "}\n",
       "</style>\n",
       "\n"
      ],
      "text/plain": [
       "<IPython.core.display.HTML object>"
      ]
     },
     "metadata": {},
     "output_type": "display_data"
    },
    {
     "data": {
      "text/html": [
       "\n",
       "<details>\n",
       "  <summary>Review Code</summary>\n",
       "  <pre>\n",
       "  \n",
       "  </pre>\n",
       "</details>\n",
       "\n",
       "\n",
       "<style>\n",
       "details {\n",
       "  border: 1px solid #aaa;\n",
       "  border-radius: 4px;\n",
       "  padding: 0.5em 0.5em 0;\n",
       "  margin-top: 3px;\n",
       "}\n",
       "\n",
       "summary {\n",
       "  font-weight: bold;\n",
       "  margin: -0.5em -0.5em 0;\n",
       "  padding: 0.5em;\n",
       "}\n",
       "\n",
       "details[open] {\n",
       "  padding: 0.5em;\n",
       "}\n",
       "\n",
       "details[open] summary {\n",
       "  border-bottom: 1px solid #aaa;\n",
       "  margin-bottom: 0.5em;\n",
       "}\n",
       "</style>\n",
       "\n"
      ],
      "text/plain": [
       "<IPython.core.display.HTML object>"
      ]
     },
     "metadata": {},
     "output_type": "display_data"
    },
    {
     "data": {
      "text/html": [
       "\n",
       "<details>\n",
       "  <summary>Eval Failed</summary>\n",
       "  <pre>\n",
       "  name 'process' is not defined\n",
       "  </pre>\n",
       "</details>\n",
       "\n",
       "\n",
       "<style>\n",
       "details {\n",
       "  border: 1px solid #aaa;\n",
       "  border-radius: 4px;\n",
       "  padding: 0.5em 0.5em 0;\n",
       "  margin-top: 3px;\n",
       "}\n",
       "\n",
       "summary {\n",
       "  font-weight: bold;\n",
       "  margin: -0.5em -0.5em 0;\n",
       "  padding: 0.5em;\n",
       "}\n",
       "\n",
       "details[open] {\n",
       "  padding: 0.5em;\n",
       "}\n",
       "\n",
       "details[open] summary {\n",
       "  border-bottom: 1px solid #aaa;\n",
       "  margin-bottom: 0.5em;\n",
       "}\n",
       "</style>\n",
       "\n"
      ],
      "text/plain": [
       "<IPython.core.display.HTML object>"
      ]
     },
     "metadata": {},
     "output_type": "display_data"
    }
   ],
   "source": [
    "df.chat(\"Find out Five-Number summary for Total Bill and Tip\")\n"
   ]
  },
  {
   "cell_type": "code",
   "execution_count": 5,
   "id": "3044baf4",
   "metadata": {},
   "outputs": [
    {
     "data": {
      "text/html": [
       "\n",
       "<details>\n",
       "  <summary>Review Code</summary>\n",
       "  <pre>\n",
       "  import pandas as pd\n",
       "import matplotlib.pyplot as plt\n",
       "\n",
       "def process(df):\n",
       "    # plt.figure(figsize=(10,5))\n",
       "    df['total_bill'].plot.box()\n",
       "    plt.title('Box Plot Diagram for Total Bill')\n",
       "    plt.xlabel('Total Bill')\n",
       "    plt.ylabel('Count')\n",
       "    plt.show()\n",
       "  </pre>\n",
       "</details>\n",
       "\n",
       "\n",
       "<style>\n",
       "details {\n",
       "  border: 1px solid #aaa;\n",
       "  border-radius: 4px;\n",
       "  padding: 0.5em 0.5em 0;\n",
       "  margin-top: 3px;\n",
       "}\n",
       "\n",
       "summary {\n",
       "  font-weight: bold;\n",
       "  margin: -0.5em -0.5em 0;\n",
       "  padding: 0.5em;\n",
       "}\n",
       "\n",
       "details[open] {\n",
       "  padding: 0.5em;\n",
       "}\n",
       "\n",
       "details[open] summary {\n",
       "  border-bottom: 1px solid #aaa;\n",
       "  margin-bottom: 0.5em;\n",
       "}\n",
       "</style>\n",
       "\n"
      ],
      "text/plain": [
       "<IPython.core.display.HTML object>"
      ]
     },
     "metadata": {},
     "output_type": "display_data"
    },
    {
     "data": {
      "image/png": "[encoded data removed]",
      "text/plain": [
       "<Figure size 640x480 with 1 Axes>"
      ]
     },
     "metadata": {},
     "output_type": "display_data"
    }
   ],
   "source": [
    "df.chat(\"Plot the Box plot diagram for Total Bill \")"
   ]
  },
  {
   "cell_type": "code",
   "execution_count": 6,
   "id": "244eb5de",
   "metadata": {},
   "outputs": [
    {
     "data": {
      "text/html": [
       "\n",
       "<details>\n",
       "  <summary>Review Code</summary>\n",
       "  <pre>\n",
       "  import pandas as pd\n",
       "import matplotlib.pyplot as plt\n",
       "\n",
       "def process(df):\n",
       "    df.plot.box(column=['total_bill', 'tip'])\n",
       "    plt.show()\n",
       "  </pre>\n",
       "</details>\n",
       "\n",
       "\n",
       "<style>\n",
       "details {\n",
       "  border: 1px solid #aaa;\n",
       "  border-radius: 4px;\n",
       "  padding: 0.5em 0.5em 0;\n",
       "  margin-top: 3px;\n",
       "}\n",
       "\n",
       "summary {\n",
       "  font-weight: bold;\n",
       "  margin: -0.5em -0.5em 0;\n",
       "  padding: 0.5em;\n",
       "}\n",
       "\n",
       "details[open] {\n",
       "  padding: 0.5em;\n",
       "}\n",
       "\n",
       "details[open] summary {\n",
       "  border-bottom: 1px solid #aaa;\n",
       "  margin-bottom: 0.5em;\n",
       "}\n",
       "</style>\n",
       "\n"
      ],
      "text/plain": [
       "<IPython.core.display.HTML object>"
      ]
     },
     "metadata": {},
     "output_type": "display_data"
    },
    {
     "data": {
      "image/png": "[encoded data removed]",
      "text/plain": [
       "<Figure size 640x480 with 1 Axes>"
      ]
     },
     "metadata": {},
     "output_type": "display_data"
    }
   ],
   "source": [
    "df.chat(\"Plot the Box plot diagram for Total Bill and Tip \")"
   ]
  },
  {
   "cell_type": "code",
   "execution_count": 8,
   "id": "b70c5399",
   "metadata": {},
   "outputs": [
    {
     "data": {
      "text/html": [
       "\n",
       "<details>\n",
       "  <summary>Review Code</summary>\n",
       "  <pre>\n",
       "  import pandas as pd\n",
       "from scipy.stats import skew\n",
       "\n",
       "def process(df):\n",
       "    for column in df.columns:\n",
       "        if df[column].dtype in ['float64', 'int64']:\n",
       "            skewness = skew(df[column].values)\n",
       "            if skewness > 0.5:\n",
       "                print(f\"The column '{column}' has high skewness: {skewness}\")\n",
       "            elif skewness < -0.5:\n",
       "                print(f\"The column '{column}' has high negative skewness: {skewness}\")\n",
       "            else:\n",
       "                print(f\"The column '{column}' has low skewness: {skewness}\")\n",
       "        else:\n",
       "            print(f\"The column '{column}' is not numerical.\")\n",
       "  </pre>\n",
       "</details>\n",
       "\n",
       "\n",
       "<style>\n",
       "details {\n",
       "  border: 1px solid #aaa;\n",
       "  border-radius: 4px;\n",
       "  padding: 0.5em 0.5em 0;\n",
       "  margin-top: 3px;\n",
       "}\n",
       "\n",
       "summary {\n",
       "  font-weight: bold;\n",
       "  margin: -0.5em -0.5em 0;\n",
       "  padding: 0.5em;\n",
       "}\n",
       "\n",
       "details[open] {\n",
       "  padding: 0.5em;\n",
       "}\n",
       "\n",
       "details[open] summary {\n",
       "  border-bottom: 1px solid #aaa;\n",
       "  margin-bottom: 0.5em;\n",
       "}\n",
       "</style>\n",
       "\n"
      ],
      "text/plain": [
       "<IPython.core.display.HTML object>"
      ]
     },
     "metadata": {},
     "output_type": "display_data"
    },
    {
     "name": "stdout",
     "output_type": "stream",
     "text": [
      "The column 'total_bill' has high skewness: 1.1262346334818638\n",
      "The column 'tip' has high skewness: 1.4564266884221506\n",
      "The column 'sex' is not numerical.\n",
      "The column 'smoker' is not numerical.\n",
      "The column 'day' is not numerical.\n",
      "The column 'time' is not numerical.\n",
      "The column 'size' has high skewness: 1.4389653841920984\n"
     ]
    }
   ],
   "source": [
    "df.chat('Analyze the diagram to mark the skewness in the data')"
   ]
  },
  {
   "cell_type": "code",
   "execution_count": 11,
   "id": "b80637a4",
   "metadata": {},
   "outputs": [
    {
     "data": {
      "text/html": [
       "\n",
       "<details>\n",
       "  <summary>Review Code</summary>\n",
       "  <pre>\n",
       "  import pandas as pd\n",
       "import numpy as np\n",
       "\n",
       "def process(df):\n",
       "    # Find Z-score based outliers\n",
       "    z_scores_total_bill = np.abs((df['total_bill'] - df['total_bill'].mean()) / df['total_bill'].std())\n",
       "    z_scores_tip = np.abs((df['tip'] - df['tip'].mean()) / df['tip'].std())\n",
       "\n",
       "    # Find rows where Z-score > 3\n",
       "    outliers_total_bill = df[(z_scores_total_bill > 3)]\n",
       "    outliers_tip = df[(z_scores_tip > 3)]\n",
       "\n",
       "    # Combine outliers for both columns\n",
       "    outliers = pd.concat([outliers_total_bill, outliers_tip]).drop_duplicates()\n",
       "\n",
       "    return outliers\n",
       "  </pre>\n",
       "</details>\n",
       "\n",
       "\n",
       "<style>\n",
       "details {\n",
       "  border: 1px solid #aaa;\n",
       "  border-radius: 4px;\n",
       "  padding: 0.5em 0.5em 0;\n",
       "  margin-top: 3px;\n",
       "}\n",
       "\n",
       "summary {\n",
       "  font-weight: bold;\n",
       "  margin: -0.5em -0.5em 0;\n",
       "  padding: 0.5em;\n",
       "}\n",
       "\n",
       "details[open] {\n",
       "  padding: 0.5em;\n",
       "}\n",
       "\n",
       "details[open] summary {\n",
       "  border-bottom: 1px solid #aaa;\n",
       "  margin-bottom: 0.5em;\n",
       "}\n",
       "</style>\n",
       "\n"
      ],
      "text/plain": [
       "<IPython.core.display.HTML object>"
      ]
     },
     "metadata": {},
     "output_type": "display_data"
    },
    {
     "data": {
      "text/html": [
       "<div>\n",
       "<style scoped>\n",
       "    .dataframe tbody tr th:only-of-type {\n",
       "        vertical-align: middle;\n",
       "    }\n",
       "\n",
       "    .dataframe tbody tr th {\n",
       "        vertical-align: top;\n",
       "    }\n",
       "\n",
       "    .dataframe thead th {\n",
       "        text-align: right;\n",
       "    }\n",
       "</style>\n",
       "<table border=\"1\" class=\"dataframe\">\n",
       "  <thead>\n",
       "    <tr style=\"text-align: right;\">\n",
       "      <th></th>\n",
       "      <th>total_bill</th>\n",
       "      <th>tip</th>\n",
       "      <th>sex</th>\n",
       "      <th>smoker</th>\n",
       "      <th>day</th>\n",
       "      <th>time</th>\n",
       "      <th>size</th>\n",
       "    </tr>\n",
       "  </thead>\n",
       "  <tbody>\n",
       "    <tr>\n",
       "      <th>59</th>\n",
       "      <td>48.27</td>\n",
       "      <td>6.73</td>\n",
       "      <td>Male</td>\n",
       "      <td>No</td>\n",
       "      <td>Sat</td>\n",
       "      <td>Dinner</td>\n",
       "      <td>4</td>\n",
       "    </tr>\n",
       "    <tr>\n",
       "      <th>156</th>\n",
       "      <td>48.17</td>\n",
       "      <td>5.00</td>\n",
       "      <td>Male</td>\n",
       "      <td>No</td>\n",
       "      <td>Sun</td>\n",
       "      <td>Dinner</td>\n",
       "      <td>6</td>\n",
       "    </tr>\n",
       "    <tr>\n",
       "      <th>170</th>\n",
       "      <td>50.81</td>\n",
       "      <td>10.00</td>\n",
       "      <td>Male</td>\n",
       "      <td>Yes</td>\n",
       "      <td>Sat</td>\n",
       "      <td>Dinner</td>\n",
       "      <td>3</td>\n",
       "    </tr>\n",
       "    <tr>\n",
       "      <th>212</th>\n",
       "      <td>48.33</td>\n",
       "      <td>9.00</td>\n",
       "      <td>Male</td>\n",
       "      <td>No</td>\n",
       "      <td>Sat</td>\n",
       "      <td>Dinner</td>\n",
       "      <td>4</td>\n",
       "    </tr>\n",
       "    <tr>\n",
       "      <th>23</th>\n",
       "      <td>39.42</td>\n",
       "      <td>7.58</td>\n",
       "      <td>Male</td>\n",
       "      <td>No</td>\n",
       "      <td>Sat</td>\n",
       "      <td>Dinner</td>\n",
       "      <td>4</td>\n",
       "    </tr>\n",
       "  </tbody>\n",
       "</table>\n",
       "</div>"
      ],
      "text/plain": [
       "     total_bill    tip   sex smoker  day    time  size\n",
       "59        48.27   6.73  Male     No  Sat  Dinner     4\n",
       "156       48.17   5.00  Male     No  Sun  Dinner     6\n",
       "170       50.81  10.00  Male    Yes  Sat  Dinner     3\n",
       "212       48.33   9.00  Male     No  Sat  Dinner     4\n",
       "23        39.42   7.58  Male     No  Sat  Dinner     4"
      ]
     },
     "execution_count": 11,
     "metadata": {},
     "output_type": "execute_result"
    }
   ],
   "source": [
    "df.chat('Find out the outliers for \"Total Bill\" and \"Tip\"')"
   ]
  },
  {
   "cell_type": "code",
   "execution_count": 12,
   "id": "23ec06ce",
   "metadata": {},
   "outputs": [
    {
     "data": {
      "text/html": [
       "\n",
       "<details>\n",
       "  <summary>Review Code</summary>\n",
       "  <pre>\n",
       "  import pandas as pd\n",
       "import numpy as np\n",
       "\n",
       "def process(df):\n",
       "    df['tip'] = df['tip'].dropna()\n",
       "    q1 = df['tip'].quantile(0.25)\n",
       "    q3 = df['tip'].quantile(0.75)\n",
       "    iqr = q3-q1\n",
       "    lower_bound = q1 - (1.5 * iqr)\n",
       "    upper_bound = q3 + (1.5 * iqr)\n",
       "    df = df[~((df['tip'] < lower_bound) | (df['tip'] > upper_bound))]\n",
       "    return df\n",
       "  </pre>\n",
       "</details>\n",
       "\n",
       "\n",
       "<style>\n",
       "details {\n",
       "  border: 1px solid #aaa;\n",
       "  border-radius: 4px;\n",
       "  padding: 0.5em 0.5em 0;\n",
       "  margin-top: 3px;\n",
       "}\n",
       "\n",
       "summary {\n",
       "  font-weight: bold;\n",
       "  margin: -0.5em -0.5em 0;\n",
       "  padding: 0.5em;\n",
       "}\n",
       "\n",
       "details[open] {\n",
       "  padding: 0.5em;\n",
       "}\n",
       "\n",
       "details[open] summary {\n",
       "  border-bottom: 1px solid #aaa;\n",
       "  margin-bottom: 0.5em;\n",
       "}\n",
       "</style>\n",
       "\n"
      ],
      "text/plain": [
       "<IPython.core.display.HTML object>"
      ]
     },
     "metadata": {},
     "output_type": "display_data"
    },
    {
     "data": {
      "text/html": [
       "<div>\n",
       "<style scoped>\n",
       "    .dataframe tbody tr th:only-of-type {\n",
       "        vertical-align: middle;\n",
       "    }\n",
       "\n",
       "    .dataframe tbody tr th {\n",
       "        vertical-align: top;\n",
       "    }\n",
       "\n",
       "    .dataframe thead th {\n",
       "        text-align: right;\n",
       "    }\n",
       "</style>\n",
       "<table border=\"1\" class=\"dataframe\">\n",
       "  <thead>\n",
       "    <tr style=\"text-align: right;\">\n",
       "      <th></th>\n",
       "      <th>total_bill</th>\n",
       "      <th>tip</th>\n",
       "      <th>sex</th>\n",
       "      <th>smoker</th>\n",
       "      <th>day</th>\n",
       "      <th>time</th>\n",
       "      <th>size</th>\n",
       "    </tr>\n",
       "  </thead>\n",
       "  <tbody>\n",
       "    <tr>\n",
       "      <th>0</th>\n",
       "      <td>16.99</td>\n",
       "      <td>1.01</td>\n",
       "      <td>Female</td>\n",
       "      <td>No</td>\n",
       "      <td>Sun</td>\n",
       "      <td>Dinner</td>\n",
       "      <td>2</td>\n",
       "    </tr>\n",
       "    <tr>\n",
       "      <th>1</th>\n",
       "      <td>10.34</td>\n",
       "      <td>1.66</td>\n",
       "      <td>Male</td>\n",
       "      <td>No</td>\n",
       "      <td>Sun</td>\n",
       "      <td>Dinner</td>\n",
       "      <td>3</td>\n",
       "    </tr>\n",
       "    <tr>\n",
       "      <th>2</th>\n",
       "      <td>21.01</td>\n",
       "      <td>3.50</td>\n",
       "      <td>Male</td>\n",
       "      <td>No</td>\n",
       "      <td>Sun</td>\n",
       "      <td>Dinner</td>\n",
       "      <td>3</td>\n",
       "    </tr>\n",
       "    <tr>\n",
       "      <th>3</th>\n",
       "      <td>23.68</td>\n",
       "      <td>3.31</td>\n",
       "      <td>Male</td>\n",
       "      <td>No</td>\n",
       "      <td>Sun</td>\n",
       "      <td>Dinner</td>\n",
       "      <td>2</td>\n",
       "    </tr>\n",
       "    <tr>\n",
       "      <th>4</th>\n",
       "      <td>24.59</td>\n",
       "      <td>3.61</td>\n",
       "      <td>Female</td>\n",
       "      <td>No</td>\n",
       "      <td>Sun</td>\n",
       "      <td>Dinner</td>\n",
       "      <td>4</td>\n",
       "    </tr>\n",
       "    <tr>\n",
       "      <th>...</th>\n",
       "      <td>...</td>\n",
       "      <td>...</td>\n",
       "      <td>...</td>\n",
       "      <td>...</td>\n",
       "      <td>...</td>\n",
       "      <td>...</td>\n",
       "      <td>...</td>\n",
       "    </tr>\n",
       "    <tr>\n",
       "      <th>238</th>\n",
       "      <td>35.83</td>\n",
       "      <td>4.67</td>\n",
       "      <td>Female</td>\n",
       "      <td>No</td>\n",
       "      <td>Sat</td>\n",
       "      <td>Dinner</td>\n",
       "      <td>3</td>\n",
       "    </tr>\n",
       "    <tr>\n",
       "      <th>240</th>\n",
       "      <td>27.18</td>\n",
       "      <td>2.00</td>\n",
       "      <td>Female</td>\n",
       "      <td>Yes</td>\n",
       "      <td>Sat</td>\n",
       "      <td>Dinner</td>\n",
       "      <td>2</td>\n",
       "    </tr>\n",
       "    <tr>\n",
       "      <th>241</th>\n",
       "      <td>22.67</td>\n",
       "      <td>2.00</td>\n",
       "      <td>Male</td>\n",
       "      <td>Yes</td>\n",
       "      <td>Sat</td>\n",
       "      <td>Dinner</td>\n",
       "      <td>2</td>\n",
       "    </tr>\n",
       "    <tr>\n",
       "      <th>242</th>\n",
       "      <td>17.82</td>\n",
       "      <td>1.75</td>\n",
       "      <td>Male</td>\n",
       "      <td>No</td>\n",
       "      <td>Sat</td>\n",
       "      <td>Dinner</td>\n",
       "      <td>2</td>\n",
       "    </tr>\n",
       "    <tr>\n",
       "      <th>243</th>\n",
       "      <td>18.78</td>\n",
       "      <td>3.00</td>\n",
       "      <td>Female</td>\n",
       "      <td>No</td>\n",
       "      <td>Thur</td>\n",
       "      <td>Dinner</td>\n",
       "      <td>2</td>\n",
       "    </tr>\n",
       "  </tbody>\n",
       "</table>\n",
       "<p>235 rows × 7 columns</p>\n",
       "</div>"
      ],
      "text/plain": [
       "     total_bill   tip     sex smoker   day    time  size\n",
       "0         16.99  1.01  Female     No   Sun  Dinner     2\n",
       "1         10.34  1.66    Male     No   Sun  Dinner     3\n",
       "2         21.01  3.50    Male     No   Sun  Dinner     3\n",
       "3         23.68  3.31    Male     No   Sun  Dinner     2\n",
       "4         24.59  3.61  Female     No   Sun  Dinner     4\n",
       "..          ...   ...     ...    ...   ...     ...   ...\n",
       "238       35.83  4.67  Female     No   Sat  Dinner     3\n",
       "240       27.18  2.00  Female    Yes   Sat  Dinner     2\n",
       "241       22.67  2.00    Male    Yes   Sat  Dinner     2\n",
       "242       17.82  1.75    Male     No   Sat  Dinner     2\n",
       "243       18.78  3.00  Female     No  Thur  Dinner     2\n",
       "\n",
       "[235 rows x 7 columns]"
      ]
     },
     "execution_count": 12,
     "metadata": {},
     "output_type": "execute_result"
    }
   ],
   "source": [
    "df.chat('Find out the IQR')\n"
   ]
  },
  {
   "cell_type": "code",
   "execution_count": 13,
   "id": "b4fe7d1b",
   "metadata": {},
   "outputs": [
    {
     "data": {
      "text/html": [
       "\n",
       "<details>\n",
       "  <summary>Review Code</summary>\n",
       "  <pre>\n",
       "  import pandas as pd\n",
       "import matplotlib.pyplot as plt\n",
       "\n",
       "def process(df):\n",
       "    # Create a histogram for the \"Total Bill\" column\n",
       "    plt.hist(df['total_bill'], bins=50, color='skyblue', alpha=0.7)\n",
       "\n",
       "    # Create a histogram for the \"Tip\" column\n",
       "    plt.hist(df['tip'], bins=50, color='yellow', alpha=0.7)\n",
       "\n",
       "    # Display the histograms\n",
       "    plt.xlabel('Value')\n",
       "    plt.ylabel('Frequency')\n",
       "    plt.title('Histogram for \"Total Bill\" and \"Tip\"')\n",
       "    plt.show()\n",
       "  </pre>\n",
       "</details>\n",
       "\n",
       "\n",
       "<style>\n",
       "details {\n",
       "  border: 1px solid #aaa;\n",
       "  border-radius: 4px;\n",
       "  padding: 0.5em 0.5em 0;\n",
       "  margin-top: 3px;\n",
       "}\n",
       "\n",
       "summary {\n",
       "  font-weight: bold;\n",
       "  margin: -0.5em -0.5em 0;\n",
       "  padding: 0.5em;\n",
       "}\n",
       "\n",
       "details[open] {\n",
       "  padding: 0.5em;\n",
       "}\n",
       "\n",
       "details[open] summary {\n",
       "  border-bottom: 1px solid #aaa;\n",
       "  margin-bottom: 0.5em;\n",
       "}\n",
       "</style>\n",
       "\n"
      ],
      "text/plain": [
       "<IPython.core.display.HTML object>"
      ]
     },
     "metadata": {},
     "output_type": "display_data"
    },
    {
     "data": {
      "image/png": "[encoded data removed]",
      "text/plain": [
       "<Figure size 640x480 with 1 Axes>"
      ]
     },
     "metadata": {},
     "output_type": "display_data"
    }
   ],
   "source": [
    "df.chat('Plot the histogram for \"Total Bill\" and \"Tip\"')"
   ]
  },
  {
   "cell_type": "code",
   "execution_count": 21,
   "id": "09a21c3d",
   "metadata": {},
   "outputs": [
    {
     "data": {
      "text/html": [
       "\n",
       "<details>\n",
       "  <summary>Review Code</summary>\n",
       "  <pre>\n",
       "  import pandas as pd\n",
       "import matplotlib.pyplot as plt\n",
       "\n",
       "def process(df):\n",
       "    df['cum_total_bill'] = df['total_bill'].cumsum()\n",
       "    df['cum_tip'] = df['tip'].cumsum()\n",
       "    plt.figure(figsize=(10,6))\n",
       "    plt.plot(df['total_bill'].cumsum(), label='Total Bill')\n",
       "    plt.plot(df['tip'].cumsum(), label='Tip')\n",
       "    plt.xlabel('Index')\n",
       "    plt.ylabel('Cumulative Value')\n",
       "    plt.title('Cumulative Frequency Polygon')\n",
       "    plt.legend()\n",
       "    plt.show()\n",
       "  </pre>\n",
       "</details>\n",
       "\n",
       "\n",
       "<style>\n",
       "details {\n",
       "  border: 1px solid #aaa;\n",
       "  border-radius: 4px;\n",
       "  padding: 0.5em 0.5em 0;\n",
       "  margin-top: 3px;\n",
       "}\n",
       "\n",
       "summary {\n",
       "  font-weight: bold;\n",
       "  margin: -0.5em -0.5em 0;\n",
       "  padding: 0.5em;\n",
       "}\n",
       "\n",
       "details[open] {\n",
       "  padding: 0.5em;\n",
       "}\n",
       "\n",
       "details[open] summary {\n",
       "  border-bottom: 1px solid #aaa;\n",
       "  margin-bottom: 0.5em;\n",
       "}\n",
       "</style>\n",
       "\n"
      ],
      "text/plain": [
       "<IPython.core.display.HTML object>"
      ]
     },
     "metadata": {},
     "output_type": "display_data"
    },
    {
     "data": {
      "image/png": "[encoded data removed]",
      "text/plain": [
       "<Figure size 1000x600 with 1 Axes>"
      ]
     },
     "metadata": {},
     "output_type": "display_data"
    }
   ],
   "source": [
    "df.chat('Plot the cumulative Frequency Polygon for \"Total Bill\" and \"Tip\"')"
   ]
  },
  {
   "cell_type": "code",
   "execution_count": 22,
   "id": "b6497e98",
   "metadata": {},
   "outputs": [
    {
     "data": {
      "text/html": [
       "\n",
       "<details>\n",
       "  <summary>Review Code</summary>\n",
       "  <pre>\n",
       "  import pandas as pd\n",
       "import matplotlib.pyplot as plt\n",
       "\n",
       "def process(df):\n",
       "    # Create a frequency table for 'size'\n",
       "    size_freq = df['size'].value_counts()\n",
       "    \n",
       "    # Create a bar chart for 'size'\n",
       "    plt.figure(figsize=(10, 6))\n",
       "    size_freq.plot(kind='bar', title='Frequency of \"Size\"', rot=0)\n",
       "    plt.xlabel('Size')\n",
       "    plt.ylabel('Frequency')\n",
       "    plt.show()\n",
       "  </pre>\n",
       "</details>\n",
       "\n",
       "\n",
       "<style>\n",
       "details {\n",
       "  border: 1px solid #aaa;\n",
       "  border-radius: 4px;\n",
       "  padding: 0.5em 0.5em 0;\n",
       "  margin-top: 3px;\n",
       "}\n",
       "\n",
       "summary {\n",
       "  font-weight: bold;\n",
       "  margin: -0.5em -0.5em 0;\n",
       "  padding: 0.5em;\n",
       "}\n",
       "\n",
       "details[open] {\n",
       "  padding: 0.5em;\n",
       "}\n",
       "\n",
       "details[open] summary {\n",
       "  border-bottom: 1px solid #aaa;\n",
       "  margin-bottom: 0.5em;\n",
       "}\n",
       "</style>\n",
       "\n"
      ],
      "text/plain": [
       "<IPython.core.display.HTML object>"
      ]
     },
     "metadata": {},
     "output_type": "display_data"
    },
    {
     "data": {
      "image/png": "[encoded data removed]",
      "text/plain": [
       "<Figure size 1000x600 with 1 Axes>"
      ]
     },
     "metadata": {},
     "output_type": "display_data"
    }
   ],
   "source": [
    "df.chat('Prepare the Frequency Table and Bar Chart for \"Size\"')"
   ]
  },
  {
   "cell_type": "code",
   "execution_count": 39,
   "id": "f70d0d98",
   "metadata": {},
   "outputs": [
    {
     "data": {
      "text/html": [
       "\n",
       "<details>\n",
       "  <summary>Review Code</summary>\n",
       "  <pre>\n",
       "  import pandas as pd\n",
       "import matplotlib.pyplot as plt\n",
       "\n",
       "def process(df):\n",
       "    # Calculate the frequency table for \"Size\" vs \"Tip\"\n",
       "    tip_size_df = pd.DataFrame(df[['size', 'tip']].groupby('size')['tip'].agg('count'))\n",
       "    tip_size_df.columns = ['count']\n",
       "    \n",
       "    # Calculate the frequency table for \"Size\" vs \"Total Bill\"\n",
       "    total_bill_size_df = pd.DataFrame(df[['size', 'total_bill']].groupby('size')['total_bill'].agg('count'))\n",
       "    total_bill_size_df.columns = ['count']\n",
       "    \n",
       "    print(tip_size_df)\n",
       "    print(total_bill_size_df)\n",
       "    \n",
       "    # Plot the frequency tables\n",
       "    tip_size_df.plot(kind='bar')\n",
       "    plt.title('Size vs Tip')\n",
       "    plt.xlabel('Size')\n",
       "    plt.ylabel('Count')\n",
       "    plt.show()\n",
       "    \n",
       "    total_bill_size_df.plot(kind='bar')\n",
       "    plt.title('Size vs Total Bill')\n",
       "    plt.xlabel('Size')\n",
       "    plt.ylabel('Count')\n",
       "    plt.show()\n",
       "  </pre>\n",
       "</details>\n",
       "\n",
       "\n",
       "<style>\n",
       "details {\n",
       "  border: 1px solid #aaa;\n",
       "  border-radius: 4px;\n",
       "  padding: 0.5em 0.5em 0;\n",
       "  margin-top: 3px;\n",
       "}\n",
       "\n",
       "summary {\n",
       "  font-weight: bold;\n",
       "  margin: -0.5em -0.5em 0;\n",
       "  padding: 0.5em;\n",
       "}\n",
       "\n",
       "details[open] {\n",
       "  padding: 0.5em;\n",
       "}\n",
       "\n",
       "details[open] summary {\n",
       "  border-bottom: 1px solid #aaa;\n",
       "  margin-bottom: 0.5em;\n",
       "}\n",
       "</style>\n",
       "\n"
      ],
      "text/plain": [
       "<IPython.core.display.HTML object>"
      ]
     },
     "metadata": {},
     "output_type": "display_data"
    },
    {
     "name": "stdout",
     "output_type": "stream",
     "text": [
      "      count\n",
      "size       \n",
      "1         4\n",
      "2       156\n",
      "3        38\n",
      "4        37\n",
      "5         5\n",
      "6         4\n",
      "      count\n",
      "size       \n",
      "1         4\n",
      "2       156\n",
      "3        38\n",
      "4        37\n",
      "5         5\n",
      "6         4\n"
     ]
    },
    {
     "data": {
      "image/png": "[encoded data removed]",
      "text/plain": [
       "<Figure size 640x480 with 1 Axes>"
      ]
     },
     "metadata": {},
     "output_type": "display_data"
    },
    {
     "data": {
      "image/png": "[encoded data removed]",
      "text/plain": [
       "<Figure size 640x480 with 1 Axes>"
      ]
     },
     "metadata": {},
     "output_type": "display_data"
    }
   ],
   "source": [
    "df.chat('Prepare two variable frequency tables for \"Size\" vs \"Tip\" and \"Size\" vs \"Total Bill\". Summarize and explain your findings.')"
   ]
  },
  {
   "cell_type": "code",
   "execution_count": 40,
   "id": "e4de62e9",
   "metadata": {},
   "outputs": [
    {
     "data": {
      "text/html": [
       "\n",
       "<details>\n",
       "  <summary>Review Code</summary>\n",
       "  <pre>\n",
       "  import matplotlib.pyplot as plt\n",
       "import seaborn as sns\n",
       "import pandas as pd\n",
       "\n",
       "def process(df):\n",
       "    # Summary statistics\n",
       "    print(df.describe())\n",
       "\n",
       "    # Visualization\n",
       "    plt.figure(figsize=(10, 5))\n",
       "    sns.scatterplot(x='total_bill', y='tip', data=df)\n",
       "    plt.title('Distribution of Total Bill and Tip')\n",
       "    plt.xlabel('Total Bill (USD)')\n",
       "    plt.ylabel('Tip (USD)')\n",
       "    plt.show()\n",
       "\n",
       "    # Statistical analysis\n",
       "    print(df['tip'].groupby(df['sex']).mean())\n",
       "  </pre>\n",
       "</details>\n",
       "\n",
       "\n",
       "<style>\n",
       "details {\n",
       "  border: 1px solid #aaa;\n",
       "  border-radius: 4px;\n",
       "  padding: 0.5em 0.5em 0;\n",
       "  margin-top: 3px;\n",
       "}\n",
       "\n",
       "summary {\n",
       "  font-weight: bold;\n",
       "  margin: -0.5em -0.5em 0;\n",
       "  padding: 0.5em;\n",
       "}\n",
       "\n",
       "details[open] {\n",
       "  padding: 0.5em;\n",
       "}\n",
       "\n",
       "details[open] summary {\n",
       "  border-bottom: 1px solid #aaa;\n",
       "  margin-bottom: 0.5em;\n",
       "}\n",
       "</style>\n",
       "\n"
      ],
      "text/plain": [
       "<IPython.core.display.HTML object>"
      ]
     },
     "metadata": {},
     "output_type": "display_data"
    },
    {
     "name": "stdout",
     "output_type": "stream",
     "text": [
      "       total_bill         tip        size\n",
      "count  244.000000  244.000000  244.000000\n",
      "mean    19.785943    2.998279    2.569672\n",
      "std      8.902412    1.383638    0.951100\n",
      "min      3.070000    1.000000    1.000000\n",
      "25%     13.347500    2.000000    2.000000\n",
      "50%     17.795000    2.900000    2.000000\n",
      "75%     24.127500    3.562500    3.000000\n",
      "max     50.810000   10.000000    6.000000\n"
     ]
    },
    {
     "data": {
      "image/png": "[encoded data removed]",
      "text/plain": [
       "<Figure size 1000x500 with 1 Axes>"
      ]
     },
     "metadata": {},
     "output_type": "display_data"
    },
    {
     "name": "stdout",
     "output_type": "stream",
     "text": [
      "sex\n",
      "Female    2.833448\n",
      "Male      3.089618\n",
      "Name: tip, dtype: float64\n"
     ]
    }
   ],
   "source": [
    "df.chat('''Explore if there is any dependency between the variable \"Tip\" and \n",
    "        Total Bill - Amount of total bill in USD\n",
    "Tip - Amount of tip given by the customer in USD\n",
    "Sex - Sax of the guest who pays for the bill (Male or Female)\n",
    "Smoker - Smoker in the party (Yes or No)\n",
    "Day - Day of the week (Thu, Fri, Sat, Sun)\n",
    "Time - Dinner or Lunch\n",
    "Size - Number of the guests in the party''')"
   ]
  },
  {
   "cell_type": "code",
   "execution_count": null,
   "id": "9b437c5e",
   "metadata": {},
   "outputs": [],
   "source": []
  },
  {
   "cell_type": "code",
   "execution_count": 41,
   "id": "532f0729",
   "metadata": {},
   "outputs": [
    {
     "data": {
      "text/html": [
       "\n",
       "<details>\n",
       "  <summary>Review Code</summary>\n",
       "  <pre>\n",
       "  import pandas as pd\n",
       "import numpy as np\n",
       "\n",
       "def process(df):\n",
       "    # Check for skewness in Total Bill\n",
       "    skewness_in_bill = df['total_bill'].skew()\n",
       "    print(f'Skewness in total bill: {skewness_in_bill}')\n",
       "    \n",
       "    # Check for skewness in Tip\n",
       "    skewness_in_tip = df['tip'].skew()\n",
       "    print(f'Skewness in tip: {skewness_in_tip}')\n",
       "    \n",
       "    # Check for uniqueness in Sex, Smoker, Day, Time\n",
       "    unique_sex = df['sex'].nunique()\n",
       "    print(f'Number of unique sex: {unique_sex}')\n",
       "    \n",
       "    unique_smoker = df['smoker'].nunique()\n",
       "    print(f'Number of unique smoker: {unique_smoker}')\n",
       "    \n",
       "    unique_day = df['day'].nunique()\n",
       "    print(f'Number of unique day: {unique_day}')\n",
       "    \n",
       "    unique_time = df['time'].nunique()\n",
       "    print(f'Number of unique time: {unique_time}')\n",
       "    \n",
       "    # Calculate average total bill\n",
       "    average_bill = df['total_bill'].mean()\n",
       "    print(f'Average total bill: {average_bill}')\n",
       "    \n",
       "    # Calculate average tip\n",
       "    average_tip = df['tip'].mean()\n",
       "    print(f'Average tip: {average_tip}')\n",
       "    \n",
       "    # Calculate average size of the guests\n",
       "    average_size = df['size'].mean()\n",
       "    print(f'Average size of the guests: {average_size}')\n",
       "  </pre>\n",
       "</details>\n",
       "\n",
       "\n",
       "<style>\n",
       "details {\n",
       "  border: 1px solid #aaa;\n",
       "  border-radius: 4px;\n",
       "  padding: 0.5em 0.5em 0;\n",
       "  margin-top: 3px;\n",
       "}\n",
       "\n",
       "summary {\n",
       "  font-weight: bold;\n",
       "  margin: -0.5em -0.5em 0;\n",
       "  padding: 0.5em;\n",
       "}\n",
       "\n",
       "details[open] {\n",
       "  padding: 0.5em;\n",
       "}\n",
       "\n",
       "details[open] summary {\n",
       "  border-bottom: 1px solid #aaa;\n",
       "  margin-bottom: 0.5em;\n",
       "}\n",
       "</style>\n",
       "\n"
      ],
      "text/plain": [
       "<IPython.core.display.HTML object>"
      ]
     },
     "metadata": {},
     "output_type": "display_data"
    },
    {
     "name": "stdout",
     "output_type": "stream",
     "text": [
      "Skewness in total bill: 1.1332130376158205\n",
      "Skewness in tip: 1.4654510370979401\n",
      "Number of unique sex: 2\n",
      "Number of unique smoker: 2\n",
      "Number of unique day: 4\n",
      "Number of unique time: 2\n",
      "Average total bill: 19.78594262295082\n",
      "Average tip: 2.99827868852459\n",
      "Average size of the guests: 2.569672131147541\n"
     ]
    }
   ],
   "source": [
    "df.chat('''Identify skewness in Total Bill - Amount of total bill in USD\n",
    "Tip - Amount of tip given by the customer in USD\n",
    "Sex - Sax of the guest who pays for the bill (Male or Female)\n",
    "Smoker - Smoker in the party (Yes or No)\n",
    "Day - Day of the week (Thu, Fri, Sat, Sun)\n",
    "Time - Dinner or Lunch\n",
    "Size - Number of the guests ''')"
   ]
  },
  {
   "cell_type": "code",
   "execution_count": null,
   "id": "276e6f93",
   "metadata": {},
   "outputs": [],
   "source": []
  },
  {
   "cell_type": "code",
   "execution_count": null,
   "id": "3abd67c7",
   "metadata": {},
   "outputs": [],
   "source": []
  },
  {
   "cell_type": "code",
   "execution_count": null,
   "id": "c48fb3b5",
   "metadata": {},
   "outputs": [],
   "source": []
  },
  {
   "cell_type": "code",
   "execution_count": null,
   "id": "25c55a10",
   "metadata": {},
   "outputs": [],
   "source": []
  },
  {
   "cell_type": "code",
   "execution_count": null,
   "id": "25d2b1a3",
   "metadata": {},
   "outputs": [],
   "source": []
  }
 ],
 "metadata": {
  "kernelspec": {
   "display_name": "Python 3 (ipykernel)",
   "language": "python",
   "name": "python3"
  },
  "language_info": {
   "codemirror_mode": {
    "name": "ipython",
    "version": 3
   },
   "file_extension": ".py",
   "mimetype": "text/x-python",
   "name": "python",
   "nbconvert_exporter": "python",
   "pygments_lexer": "ipython3",
   "version": "3.11.5"
  }
 },
 "nbformat": 4,
 "nbformat_minor": 5
}
